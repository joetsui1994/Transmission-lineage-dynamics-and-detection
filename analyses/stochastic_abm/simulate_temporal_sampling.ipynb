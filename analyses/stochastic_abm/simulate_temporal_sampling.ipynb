{
 "cells": [
  {
   "cell_type": "markdown",
   "metadata": {},
   "source": [
    "#### load in modules"
   ]
  },
  {
   "cell_type": "code",
   "execution_count": 1,
   "metadata": {},
   "outputs": [],
   "source": [
    "from tqdm import tqdm\n",
    "import pandas as pd\n",
    "import numpy as np\n",
    "import os"
   ]
  },
  {
   "cell_type": "markdown",
   "metadata": {},
   "source": [
    "#### read in simulation output"
   ]
  },
  {
   "cell_type": "code",
   "execution_count": 2,
   "metadata": {},
   "outputs": [],
   "source": [
    "# specify path to simulated data\n",
    "infile = './results/T20.csv.gz'\n",
    "# read in simulated data\n",
    "simulated_data = pd.read_csv(infile, compression='gzip')"
   ]
  },
  {
   "cell_type": "markdown",
   "metadata": {},
   "source": [
    "#### calculate detection probs"
   ]
  },
  {
   "cell_type": "code",
   "execution_count": 3,
   "metadata": {},
   "outputs": [],
   "source": [
    "# number of draws for each sampling proportion\n",
    "num_draws = 200"
   ]
  },
  {
   "cell_type": "code",
   "execution_count": 4,
   "metadata": {},
   "outputs": [],
   "source": [
    "# specify sampling proportions\n",
    "sfs = [0.01, 0.05, 0.15, 0.5, 0.9]"
   ]
  },
  {
   "cell_type": "code",
   "execution_count": 5,
   "metadata": {},
   "outputs": [],
   "source": [
    "# get time range from simulated data\n",
    "time_range = [t for t in range(simulated_data.cluster_imported_time.min(), simulated_data.cluster_imported_time.max()+1)]"
   ]
  },
  {
   "cell_type": "code",
   "execution_count": 6,
   "metadata": {},
   "outputs": [
    {
     "name": "stdout",
     "output_type": "stream",
     "text": [
      "sampling proportion: 0.01\n"
     ]
    },
    {
     "name": "stderr",
     "output_type": "stream",
     "text": [
      "100%|██████████| 30/30 [00:02<00:00, 10.00it/s]\n"
     ]
    },
    {
     "name": "stdout",
     "output_type": "stream",
     "text": [
      "sampling proportion: 0.05\n"
     ]
    },
    {
     "name": "stderr",
     "output_type": "stream",
     "text": [
      "100%|██████████| 30/30 [00:02<00:00, 11.50it/s]\n"
     ]
    },
    {
     "name": "stdout",
     "output_type": "stream",
     "text": [
      "sampling proportion: 0.15\n"
     ]
    },
    {
     "name": "stderr",
     "output_type": "stream",
     "text": [
      "100%|██████████| 30/30 [00:02<00:00, 11.34it/s]\n"
     ]
    },
    {
     "name": "stdout",
     "output_type": "stream",
     "text": [
      "sampling proportion: 0.5\n"
     ]
    },
    {
     "name": "stderr",
     "output_type": "stream",
     "text": [
      "100%|██████████| 30/30 [00:02<00:00, 10.87it/s]\n"
     ]
    },
    {
     "name": "stdout",
     "output_type": "stream",
     "text": [
      "sampling proportion: 0.9\n"
     ]
    },
    {
     "name": "stderr",
     "output_type": "stream",
     "text": [
      "100%|██████████| 30/30 [00:02<00:00, 10.82it/s]\n"
     ]
    }
   ],
   "source": [
    "# precompute variables\n",
    "num_experiments = simulated_data['experiment'].nunique()\n",
    "true_num_clusters = simulated_data['cluster'].nunique()\n",
    "infected_data = simulated_data[simulated_data['state'] >= 1]  # Filter once for infected individuals\n",
    "\n",
    "# prepare dictionaries for detection numbers\n",
    "sf_exp_time_detection_nums = {}\n",
    "\n",
    "for sf in sfs:\n",
    "    print(f'sampling proportion: {sf}')\n",
    "    exp_time_detection_nums = {time: [] for time in time_range}\n",
    "\n",
    "    for exp_i in tqdm(range(num_experiments)):\n",
    "        # filter data for the current experiment\n",
    "        df_exp = infected_data[infected_data['experiment'] == exp_i]\n",
    "        num_sample = int(sf * len(df_exp))\n",
    "\n",
    "        for _ in range(num_draws):\n",
    "            # sample individuals\n",
    "            sampled_infected = df_exp.sample(n=num_sample, replace=False)\n",
    "\n",
    "            # bin clusters by importation time\n",
    "            time_detection_counts = (\n",
    "                sampled_infected.groupby('cluster')\n",
    "                .first()  # get the first record of each cluster\n",
    "                .groupby('cluster_imported_time')\n",
    "                .size()\n",
    "                .to_dict()\n",
    "            )\n",
    "\n",
    "            # store detection numbers for each time\n",
    "            for time in time_range:\n",
    "                exp_time_detection_nums[time].append(time_detection_counts.get(time, 0))\n",
    "\n",
    "    # store results for the sampling proportion\n",
    "    sf_exp_time_detection_nums[sf] = exp_time_detection_nums\n"
   ]
  },
  {
   "cell_type": "markdown",
   "metadata": {},
   "source": [
    "#### get medians and interquartile ranges"
   ]
  },
  {
   "cell_type": "code",
   "execution_count": 24,
   "metadata": {},
   "outputs": [],
   "source": [
    "temporal_median = { sf: { time: np.median(sf_exp_time_detection_nums[sf][time])\n",
    "                         for time in sf_exp_time_detection_nums[sf].keys() } for sf in sfs }\n",
    "temporal_lws_95CI = { sf: { time: np.percentile(sf_exp_time_detection_nums[sf][time], 2.5)\n",
    "                           for time in sf_exp_time_detection_nums[sf].keys() } for sf in sfs }\n",
    "temporal_ups_95CI = { sf: { time: np.percentile(sf_exp_time_detection_nums[sf][time], 97.5)\n",
    "                           for time in sf_exp_time_detection_nums[sf].keys() } for sf in sfs }"
   ]
  },
  {
   "cell_type": "code",
   "execution_count": 25,
   "metadata": {},
   "outputs": [],
   "source": [
    "# specify output folder\n",
    "out_dir = './results/T20'"
   ]
  },
  {
   "cell_type": "code",
   "execution_count": 26,
   "metadata": {},
   "outputs": [],
   "source": [
    "# export detection numbers by importation time (median, interquartile ranges)\n",
    "with open(os.path.join(out_dir, 'detection_numbers_by_time.csv'), 'w+') as outfile:\n",
    "    outfile.write('sf,time,median,lw_95CI,up_95CI\\n')\n",
    "    outfile.write('\\n'.join(\n",
    "        ['%f,%d,%f,%f,%f' % (sf, time, temporal_median[sf][time], temporal_lws_95CI[sf][time], temporal_ups_95CI[sf][time])\n",
    "         for sf in sfs for time in temporal_median[sf].keys()]))"
   ]
  },
  {
   "cell_type": "code",
   "execution_count": null,
   "metadata": {},
   "outputs": [],
   "source": []
  }
 ],
 "metadata": {
  "kernelspec": {
   "display_name": "Python 3",
   "language": "python",
   "name": "python3"
  },
  "language_info": {
   "codemirror_mode": {
    "name": "ipython",
    "version": 3
   },
   "file_extension": ".py",
   "mimetype": "text/x-python",
   "name": "python",
   "nbconvert_exporter": "python",
   "pygments_lexer": "ipython3",
   "version": "3.9.21"
  }
 },
 "nbformat": 4,
 "nbformat_minor": 2
}
